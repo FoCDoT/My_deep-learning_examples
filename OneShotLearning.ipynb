{
 "cells": [
  {
   "cell_type": "markdown",
   "metadata": {},
   "source": [
    "# Siamese Network \n",
    "Builiding a siamese network as per paper Siamese Neural Networks for One-shot Image Recognition given in http://www.cs.cmu.edu/~rsalakhu/papers/oneshot1.pdf "
   ]
  },
  {
   "cell_type": "code",
   "execution_count": 4,
   "metadata": {},
   "outputs": [],
   "source": [
    "# ML/ DL limbraries\n",
    "from keras.layers import Input, Conv2D, Lambda, merge, Dense, Flatten, MaxPooling2D\n",
    "from keras.models import Sequential, Model\n",
    "from keras.regularizers import l2\n",
    "from keras.optimizers import SGD, Adam\n",
    "from keras import backend as K\n",
    "from keras.losses import binary_crossentropy\n",
    "import numpy as np"
   ]
  },
  {
   "cell_type": "code",
   "execution_count": 6,
   "metadata": {
    "collapsed": true
   },
   "outputs": [],
   "source": [
    "# Visualization libraries \n",
    "import seaborn as sns\n",
    "import matplotlib.pyplot as plt\n",
    "% matplotlib inline"
   ]
  },
  {
   "cell_type": "code",
   "execution_count": 8,
   "metadata": {
    "collapsed": true
   },
   "outputs": [],
   "source": [
    "# Other Libraries\n",
    "from sklearn.utils import shuffle\n",
    "import os\n",
    "import pickle"
   ]
  },
  {
   "cell_type": "markdown",
   "metadata": {},
   "source": [
    "## Model\n",
    "\n",
    "Originally the model was made for performing one-shot learning for learning good features on Omniglot dataset https://github.com/brendenlake/omniglot which is a collection of 1623 hand drawn characters from 50 alphabets for every character there are only just 20 examples . Therefore this problem is best suited to be solved by one shot learning because very less amount of data it has"
   ]
  },
  {
   "cell_type": "code",
   "execution_count": 9,
   "metadata": {
    "collapsed": true
   },
   "outputs": [],
   "source": [
    "input_shape = (105,105,1)\n"
   ]
  },
  {
   "cell_type": "code",
   "execution_count": 10,
   "metadata": {
    "collapsed": true
   },
   "outputs": [],
   "source": [
    "def w_init(shape, name=None):\n",
    "    values = np.random.normal(loc=0, scale=1e-2,size=shape)\n",
    "    return K.variable(values, name=name)"
   ]
  },
  {
   "cell_type": "code",
   "execution_count": 11,
   "metadata": {
    "collapsed": true
   },
   "outputs": [],
   "source": [
    "def b_init(shape, name=None):\n",
    "    values = np.random.normal(loc=0.5, scale=1e-2, size=shape)\n",
    "    return K.variable(values, name=name)"
   ]
  },
  {
   "cell_type": "code",
   "execution_count": 15,
   "metadata": {},
   "outputs": [],
   "source": [
    "def design_model(input_shape=(105,105,1)):\n",
    "    \n",
    "    model = Sequential()\n",
    "#     1\n",
    "    model.add(Conv2D(64,(10,10), activation= 'relu', input_shape=input_shape, kernel_initializer=w_init,\n",
    "                     bias_initializer=b_init, kernel_regularizer=l2(2e-4)))\n",
    "#     2\n",
    "    model.add(MaxPooling2D())\n",
    "\n",
    "#     3\n",
    "    model.add(Conv2D(128,(7,7), activation= 'relu', kernel_initializer=w_init,\n",
    "                     bias_initializer=b_init, kernel_regularizer=l2(2e-4)))\n",
    "    \n",
    "#     4\n",
    "    model.add(MaxPooling2D())\n",
    "    \n",
    "#     5\n",
    "    model.add(Conv2D(128,(4,4), activation= 'relu', kernel_initializer=w_init,\n",
    "                     bias_initializer=b_init, kernel_regularizer=l2(2e-4)))\n",
    "#     6\n",
    "    model.add(MaxPooling2D())\n",
    "    \n",
    "#     7\n",
    "    model.add(Conv2D(256,(7,7), activation= 'relu', kernel_initializer=w_init,\n",
    "                     bias_initializer=b_init, kernel_regularizer=l2(2e-4)))\n",
    "    \n",
    "#     8\n",
    "    model.add(Flatten())\n",
    "    model.add(Dense(4096, activation=sigmoid,kernel_regularizer=l2(1e-3),kernel_initializer=w_init,bias_initializer=b_init))\n",
    "    \n",
    "    return model"
   ]
  },
  {
   "cell_type": "code",
   "execution_count": null,
   "metadata": {
    "collapsed": true
   },
   "outputs": [],
   "source": []
  }
 ],
 "metadata": {
  "kernelspec": {
   "display_name": "Python [conda root]",
   "language": "python",
   "name": "conda-root-py"
  },
  "language_info": {
   "codemirror_mode": {
    "name": "ipython",
    "version": 3
   },
   "file_extension": ".py",
   "mimetype": "text/x-python",
   "name": "python",
   "nbconvert_exporter": "python",
   "pygments_lexer": "ipython3",
   "version": "3.5.4"
  }
 },
 "nbformat": 4,
 "nbformat_minor": 2
}
