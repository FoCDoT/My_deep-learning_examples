{
 "cells": [
  {
   "cell_type": "markdown",
   "metadata": {},
   "source": [
    "# Importing necessary modules"
   ]
  },
  {
   "cell_type": "code",
   "execution_count": 63,
   "metadata": {
    "collapsed": true
   },
   "outputs": [],
   "source": [
    "import os\n",
    "import numpy as np\n",
    "import pandas as pd\n",
    "from PIL import Image\n",
    "import matplotlib.pyplot as plt\n",
    "import random\n",
    "from sklearn.utils import shuffle\n",
    "from sklearn.preprocessing import Imputer, LabelEncoder, OneHotEncoder, StandardScaler\n",
    "from six.moves import cPickle as pickle"
   ]
  },
  {
   "cell_type": "raw",
   "metadata": {},
   "source": [
    "# Data classification  "
   ]
  },
  {
   "cell_type": "code",
   "execution_count": 3,
   "metadata": {
    "collapsed": true
   },
   "outputs": [],
   "source": [
    "def load_image(folder):\n",
    "    valid_images = [\".jpg\", \".gif\", \".png\", \".tga\"]\n",
    "    all_char = os.listdir(folder)\n",
    "    imgs_data = []\n",
    "    Y = []\n",
    "    \n",
    "    for current_char in all_char:\n",
    "        char_dir = os.path.join(folder,current_char)\n",
    "        \n",
    "        for image_name in os.listdir(char_dir):\n",
    "            image_dir = os.path.join(char_dir, image_name)\n",
    "            ext = os.path.splitext(image_dir)[1]\n",
    "            \n",
    "            if ext.lower() not in valid_images:\n",
    "                continue\n",
    "                \n",
    "            try:\n",
    "                img = Image.open(image_dir)\n",
    "                img = np.array(img.resize((28,28),Image.ANTIALIAS))\n",
    "                img = img.reshape(28*28)/255\n",
    "                imgs_data.append(img)\n",
    "                Y.append(current_char)\n",
    "                \n",
    "            except:\n",
    "                print(\"unable to fetch image\")\n",
    "            \n",
    "    print(np.array(imgs_data).shape, np.array(Y).reshape(len(Y),1).shape)\n",
    "    return np.array(imgs_data,dtype=np.float32).T, np.array(Y).reshape(1,len(Y))"
   ]
  },
  {
   "cell_type": "code",
   "execution_count": 4,
   "metadata": {},
   "outputs": [
    {
     "name": "stdout",
     "output_type": "stream",
     "text": [
      "unable to fetch image\n",
      "unable to fetch image\n",
      "(18724, 784) (18724, 1)\n"
     ]
    }
   ],
   "source": [
    "X, Y = load_image(\"/home/apurvnit/datasets/not_mnist/notMNIST_small\")"
   ]
  },
  {
   "cell_type": "code",
   "execution_count": 6,
   "metadata": {},
   "outputs": [
    {
     "name": "stdout",
     "output_type": "stream",
     "text": [
      "mean = 0.425364\n",
      "standard deviation =  0.458622\n"
     ]
    }
   ],
   "source": [
    "print(\"mean =\",np.mean(X))\n",
    "print(\"standard deviation = \",np.std(X))"
   ]
  },
  {
   "cell_type": "code",
   "execution_count": 7,
   "metadata": {
    "collapsed": true
   },
   "outputs": [],
   "source": [
    "X_ = X * 255\n"
   ]
  },
  {
   "cell_type": "code",
   "execution_count": 8,
   "metadata": {
    "collapsed": true
   },
   "outputs": [],
   "source": [
    "X_ = (X_ - 128)/128"
   ]
  },
  {
   "cell_type": "markdown",
   "metadata": {},
   "source": [
    "# Normalization - \n",
    "Making dataset of approx. zero mean and 1 variance"
   ]
  },
  {
   "cell_type": "code",
   "execution_count": 10,
   "metadata": {},
   "outputs": [
    {
     "name": "stdout",
     "output_type": "stream",
     "text": [
      "mean of X_ =  -0.152596\n",
      "standar deviation of X_ 0.913662\n"
     ]
    }
   ],
   "source": [
    "print(\"mean of X_ = \", np.mean(X_))\n",
    "print(\"standar deviation of X_\" ,np.std(X_))"
   ]
  },
  {
   "cell_type": "code",
   "execution_count": 23,
   "metadata": {
    "collapsed": true
   },
   "outputs": [],
   "source": [
    "def randomize(X_var, Y_var):\n",
    "    X, Y = shuffle(X_var.T, Y_var.T, random_state=random.randint(0,9))\n",
    "    print(X.T.shape,Y.T.shape)\n",
    "    return X.T, Y.T"
   ]
  },
  {
   "cell_type": "code",
   "execution_count": 25,
   "metadata": {},
   "outputs": [
    {
     "name": "stdout",
     "output_type": "stream",
     "text": [
      "(784, 18724) (1, 18724)\n",
      "[[-1.        -1.        -1.        ..., -0.578125   0.9921875 -1.       ]\n",
      " [-1.        -1.        -1.        ...,  0.8125     0.9921875 -1.       ]\n",
      " [-1.        -1.        -1.        ...,  0.984375   0.9921875 -1.       ]\n",
      " ..., \n",
      " [-1.        -1.         0.96875   ..., -1.         0.9921875 -1.       ]\n",
      " [-0.828125  -1.         0.9921875 ..., -1.         0.9921875 -1.       ]\n",
      " [-0.109375  -1.         0.28125   ..., -1.         0.9921875 -1.       ]] [['E' 'D' 'A' ..., 'E' 'H' 'G']]\n"
     ]
    }
   ],
   "source": [
    "X_1, Y_1 = randomize(X_, Y)\n",
    "print(X_1, Y_1)"
   ]
  },
  {
   "cell_type": "code",
   "execution_count": 77,
   "metadata": {},
   "outputs": [],
   "source": [
    "def data_preprocessing(X, Y):\n",
    "    \n",
    "    Y_1 = LabelEncoder().fit_transform(Y.T)\n",
    "    Y_1 = Y_1.reshape(1, Y.shape[1])\n",
    "    onehot = OneHotEncoder(categorical_features = [1])\n",
    "    Y = onehot.fit_transform(Y_1) \n",
    "    X_1, Y_1 = randomize(X,Y)\n",
    "    X_train = X_1[:, 0:int(0.75*X_1.shape[1])]\n",
    "    Y_train = Y_1[:, 0:int(0.75 * Y_1.shape[1])]\n",
    "    X_test = X_1[:, int(0.75 * X_1.shape[1]):]\n",
    "    Y_test = Y_1[:, int(0.75 * X_1.shape[1]):]\n",
    "    \n",
    "    \n",
    "#     return X_train,Y_train,X_test,Y_test\n",
    "    "
   ]
  },
  {
   "cell_type": "code",
   "execution_count": 78,
   "metadata": {},
   "outputs": [
    {
     "name": "stdout",
     "output_type": "stream",
     "text": [
      "(784, 18724) (1, 18724)\n"
     ]
    },
    {
     "name": "stderr",
     "output_type": "stream",
     "text": [
      "/home/apurvnit/anaconda3/lib/python3.5/site-packages/sklearn/preprocessing/label.py:129: DataConversionWarning: A column-vector y was passed when a 1d array was expected. Please change the shape of y to (n_samples, ), for example using ravel().\n",
      "  y = column_or_1d(y, warn=True)\n"
     ]
    }
   ],
   "source": [
    "# X_train,Y_train,X_test,Y_test = data_preprocessing(X_, Y)\n",
    "data_preprocessing(X_, Y)"
   ]
  },
  {
   "cell_type": "markdown",
   "metadata": {
    "collapsed": true
   },
   "source": [
    "Since we have made and classified data for our program. lets save it so that we dont have to do such a long work again and again"
   ]
  },
  {
   "cell_type": "code",
   "execution_count": 79,
   "metadata": {
    "collapsed": true
   },
   "outputs": [],
   "source": [
    "def save_dataset(pickle_file):\n",
    "\n",
    "    try:\n",
    "      f = open(pickle_file, 'wb')\n",
    "      save = {\n",
    "        'train_dataset': X_train,\n",
    "        'train_labels': Y_train,\n",
    "        'test_dataset': X_test,\n",
    "        'test_labels': Y_test,\n",
    "        }\n",
    "      pickle.dump(save, f, pickle.HIGHEST_PROTOCOL)\n",
    "      f.close()\n",
    "    except Exception as e:\n",
    "      print('Unable to save data to', pickle_file, ':', e)\n",
    "      raise"
   ]
  },
  {
   "cell_type": "code",
   "execution_count": 81,
   "metadata": {},
   "outputs": [
    {
     "name": "stdout",
     "output_type": "stream",
     "text": [
      "Compressed pickle size: 58868654\n"
     ]
    }
   ],
   "source": [
    "pickle_file = os.path.join(\"/home/apurvnit/Projects/My_deep-learning_examples/char_recognition\", 'char_recognition.pickle')\n",
    "save_dataset(pickle_file)\n",
    "statinfo = os.stat(pickle_file)\n",
    "print('Compressed pickle size:', statinfo.st_size)"
   ]
  },
  {
   "cell_type": "code",
   "execution_count": null,
   "metadata": {
    "collapsed": true
   },
   "outputs": [],
   "source": []
  }
 ],
 "metadata": {
  "kernelspec": {
   "display_name": "Python [conda root]",
   "language": "python",
   "name": "conda-root-py"
  },
  "language_info": {
   "codemirror_mode": {
    "name": "ipython",
    "version": 3
   },
   "file_extension": ".py",
   "mimetype": "text/x-python",
   "name": "python",
   "nbconvert_exporter": "python",
   "pygments_lexer": "ipython3",
   "version": "3.5.3"
  }
 },
 "nbformat": 4,
 "nbformat_minor": 2
}
